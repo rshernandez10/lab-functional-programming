{
  "nbformat": 4,
  "nbformat_minor": 0,
  "metadata": {
    "kernelspec": {
      "display_name": "Python 3",
      "language": "python",
      "name": "python3"
    },
    "language_info": {
      "codemirror_mode": {
        "name": "ipython",
        "version": 3
      },
      "file_extension": ".py",
      "mimetype": "text/x-python",
      "name": "python",
      "nbconvert_exporter": "python",
      "pygments_lexer": "ipython3",
      "version": "3.6.6"
    },
    "colab": {
      "name": "Q3.ipynb",
      "provenance": []
    }
  },
  "cells": [
    {
      "cell_type": "markdown",
      "metadata": {
        "id": "1nz2vCv9uSFD",
        "colab_type": "text"
      },
      "source": [
        "**Lambda** is a special Python function type that is **anonymous**. By *anonymous* it means a lambda function does not have name. Lambda functions are embedded inside codes so that you don't call them like calling regular Python functions.\n",
        "\n",
        "**`Map`** applies a function to all the items in an input list. The function that is applied can be a standard or a lambda function.\n",
        "\n",
        "For instance, below is an example of multiplying number tuples in a list:"
      ]
    },
    {
      "cell_type": "code",
      "metadata": {
        "id": "XKhMAB9UuSFE",
        "colab_type": "code",
        "colab": {
          "base_uri": "https://localhost:8080/",
          "height": 34
        },
        "outputId": "fd71db6a-5a1d-4401-ba2d-6a08010bb952"
      },
      "source": [
        "items = [(1,2), (3,4), (5,6)]\n",
        "\n",
        "def multiply(num_tuple):\n",
        "    return num_tuple[0]*num_tuple[1]\n",
        "list(map(multiply, items))"
      ],
      "execution_count": 1,
      "outputs": [
        {
          "output_type": "execute_result",
          "data": {
            "text/plain": [
              "[2, 12, 30]"
            ]
          },
          "metadata": {
            "tags": []
          },
          "execution_count": 1
        }
      ]
    },
    {
      "cell_type": "markdown",
      "metadata": {
        "id": "lNpaug4puSFJ",
        "colab_type": "text"
      },
      "source": [
        "...is the same as:"
      ]
    },
    {
      "cell_type": "code",
      "metadata": {
        "id": "A4D3o99muSFJ",
        "colab_type": "code",
        "colab": {
          "base_uri": "https://localhost:8080/",
          "height": 34
        },
        "outputId": "33d6f36a-ab2a-4a70-bba2-aec5b18a6c8e"
      },
      "source": [
        "items = [(1,2), (3,4), (5,6)]\n",
        "list(map(lambda item: item[0]*item[1], items))"
      ],
      "execution_count": 2,
      "outputs": [
        {
          "output_type": "execute_result",
          "data": {
            "text/plain": [
              "[2, 12, 30]"
            ]
          },
          "metadata": {
            "tags": []
          },
          "execution_count": 2
        }
      ]
    },
    {
      "cell_type": "markdown",
      "metadata": {
        "id": "MwmjA52juSFM",
        "colab_type": "text"
      },
      "source": [
        "Why do we sometimes use `lambda` and `map`? Because, as you see in the example above, they make your code really concise by combining 3 lines of code to 1 line.\n",
        "\n",
        "Besides `map`, there is also **`filter`** that selectively returns elements in an array according to whether you return `True`. There is also **`reduce`** that performs computation on a list of items then returns result.\n",
        "\n",
        "Here is a [good tutorial](http://book.pythontips.com/en/latest/map_filter.html) about `map`, `filter`, and `reduce`. Read it if you are not familiar with how they are used. Then proceed to the next cell."
      ]
    },
    {
      "cell_type": "markdown",
      "metadata": {
        "id": "bEbMjs09uSFN",
        "colab_type": "text"
      },
      "source": [
        "In the next cell, use `filter` and `lambda` to return a list that contains positive numbers only. The output should be:\n",
        "\n",
        "```[1, 4, 5]```"
      ]
    },
    {
      "cell_type": "code",
      "metadata": {
        "id": "eZ6ddOGBuSFN",
        "colab_type": "code",
        "colab": {
          "base_uri": "https://localhost:8080/",
          "height": 34
        },
        "outputId": "c5e134d3-173b-4bdd-fdf4-5e9ee9c6ee50"
      },
      "source": [
        "numbers = [1, 4, -1, -100, 0, 5, -99]\n",
        "\n",
        "# Enter your code below\n",
        "\n",
        "numbers_plus = list(filter(lambda number: number>0, numbers))\n",
        "print(numbers_plus)"
      ],
      "execution_count": 6,
      "outputs": [
        {
          "output_type": "stream",
          "text": [
            "[1, 4, 5]\n"
          ],
          "name": "stdout"
        }
      ]
    },
    {
      "cell_type": "markdown",
      "metadata": {
        "id": "idUkEimVuSFQ",
        "colab_type": "text"
      },
      "source": [
        "Next, use `reduce` and `lambda` to return a string that only contains English terms. The English terms are separated with a whitespace ` `.\n",
        "\n",
        "Hints: \n",
        "\n",
        "* If your Jupyter Notebook cannot import `langdetect`, you need to install it with `pip install langdetect`. If Jupyter Notebook still cannot find the library, try install with `python3 -m pip install langdetect`. This is because you need to install `langdetect` in the same Python run environment where Jupyter Notebook is running.\n",
        "\n",
        "* If a word is English, `langdetect.detect(word)=='en'` will return `True`.\n",
        "\n",
        "Your output should read:\n",
        "\n",
        "```'good morning everyone'```"
      ]
    },
    {
      "cell_type": "code",
      "metadata": {
        "id": "u5_8FcCIuSFR",
        "colab_type": "code",
        "colab": {
          "base_uri": "https://localhost:8080/",
          "height": 87
        },
        "outputId": "cef2ecc7-4c78-4eb9-c21c-80c273a9e058"
      },
      "source": [
        "!pip install langdetect\n",
        "\n",
        "import langdetect\n",
        "from functools import reduce\n",
        "words = ['good morning', '早上好', 'доброго', 'おはようございます', 'everyone', '大家', 'каждый', 'みんな']\n",
        "\n",
        "# Enter your code below\n",
        "\n",
        "from langdetect import detect\n",
        "detect (\"good morning\")\n",
        "\n",
        "# print(list(langdetect.detect(x)for x in words))\n"
      ],
      "execution_count": 11,
      "outputs": [
        {
          "output_type": "stream",
          "text": [
            "Requirement already satisfied: langdetect in /usr/local/lib/python3.6/dist-packages (1.0.8)\n",
            "Requirement already satisfied: six in /usr/local/lib/python3.6/dist-packages (from langdetect) (1.12.0)\n"
          ],
          "name": "stdout"
        },
        {
          "output_type": "execute_result",
          "data": {
            "text/plain": [
              "'en'"
            ]
          },
          "metadata": {
            "tags": []
          },
          "execution_count": 11
        }
      ]
    },
    {
      "cell_type": "markdown",
      "metadata": {
        "id": "U7cWJi6guSFT",
        "colab_type": "text"
      },
      "source": [
        "# Bonus Question"
      ]
    },
    {
      "cell_type": "markdown",
      "metadata": {
        "id": "ygOk20k1uSFT",
        "colab_type": "text"
      },
      "source": [
        "Finally, if you still have time, convert your response in Q2 by using `lambda`, `map`, `filter`, or `reduce` where applicable. Enter your function in the cell below.\n",
        "\n",
        "As you write Python functions, generally you don't want to make your function too long. Long functions are difficult to read and difficult to debug. If a function is getting too long, consider breaking it into sever shorter functions where the main function calls other functions. If anything goes wrong, you can output debug messages in each of the functions to check where exactly the error is."
      ]
    },
    {
      "cell_type": "code",
      "metadata": {
        "id": "8ZzkS6xtuSFU",
        "colab_type": "code",
        "colab": {}
      },
      "source": [
        "# Enter your code below"
      ],
      "execution_count": 0,
      "outputs": []
    },
    {
      "cell_type": "markdown",
      "metadata": {
        "id": "wDX4bKdRuSFW",
        "colab_type": "text"
      },
      "source": [
        "Test your function below with the Bag of Words lab docs (it's easier for you to debug your code). Your output should be:\n",
        "\n",
        "```{'bag_of_words': ['ironhack', 'cool', 'love', 'student'], 'term_freq': [[1, 1, 0, 0], [1, 0, 1, 0], [1, 0, 0, 1]]}```"
      ]
    },
    {
      "cell_type": "code",
      "metadata": {
        "id": "hHCHaVxOuSFX",
        "colab_type": "code",
        "colab": {}
      },
      "source": [
        "from sklearn.feature_extraction import stop_words\n",
        "bow = get_bow_from_docs([\n",
        "    '../../lab-bag-of-words/your-code/doc1.txt', \n",
        "    '../../lab-bag-of-words/your-code/doc2.txt', \n",
        "    '../../lab-bag-of-words/your-code/doc3.txt'],\n",
        "    stop_words.ENGLISH_STOP_WORDS\n",
        ")\n",
        "\n",
        "print(bow)"
      ],
      "execution_count": 0,
      "outputs": []
    },
    {
      "cell_type": "code",
      "metadata": {
        "id": "5CCQhuKAuSFZ",
        "colab_type": "code",
        "colab": {}
      },
      "source": [
        ""
      ],
      "execution_count": 0,
      "outputs": []
    }
  ]
}